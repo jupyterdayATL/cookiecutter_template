{
 "cells": [
  {
   "cell_type": "markdown",
   "metadata": {},
   "source": [
    "# {{cookiecutter.project_name}}\n",
    "\n",
    "##### Version 0.1\n",
    "#####  Author: {{cookiecutter.author_name}}\n",
    "##### email: {{cookiecutter.author_email}}\n",
    "##### Date: {% now 'local', '%d-%b-%Y' %}\n",
    "\n",
    "##### Contributors: "
   ]
  },
  {
   "cell_type": "markdown",
   "metadata": {},
   "source": [
    "# Project Review\n",
    "\n",
    "Assess what when right and what went wrong, what was done well and what needs to be improved.\n",
    "\n",
    "\n",
    "## Experience Documentation\n",
    "\n",
    "TODO: Summarize important experience gained during the project. For example, pitfalls, misleading approaches,\n",
    "or hints for selecting the best suited data mining techniques in similar situations could be part of this\n",
    "documentation. In ideal projects, experience documentation also covers any reports that have been\n",
    "written by individual project members during previous phases of the project.\n",
    "\n",
    "TODO: Summarize important experience gained during the project. For example, pitfalls, misleading approaches,\n",
    "or hints for selecting the best suited data mining techniques in similar situations could be part of this\n",
    "documentation. In ideal projects, experience documentation also covers any reports that have been\n",
    "written by individual project members during previous phases of the project.\n",
    "\n",
    "## References\n",
    "\n",
    "1. Rüdiger, 2000; _CRISP-DM: Towards a standard process model for data mining_, Proceedings of the Fourth International Conference on the Practical Application of Knowledge Discovery and Data Mining, pp 29--39"
   ]
  }
 ],
 "metadata": {
  "kernelspec": {
   "display_name": "Python [default]",
   "language": "python",
   "name": "python2"
  },
  "language_info": {
   "codemirror_mode": {
    "name": "ipython",
    "version": 2
   },
   "file_extension": ".py",
   "mimetype": "text/x-python",
   "name": "python",
   "nbconvert_exporter": "python",
   "pygments_lexer": "ipython2",
   "version": "2.7.14"
  }
 },
 "nbformat": 4,
 "nbformat_minor": 2
}
