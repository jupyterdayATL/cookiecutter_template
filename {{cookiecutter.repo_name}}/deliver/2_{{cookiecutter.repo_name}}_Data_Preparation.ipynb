{
 "cells": [
  {
   "cell_type": "markdown",
   "metadata": {},
   "source": [
    "# {{cookiecutter.project_name}}\n",
    "\n",
    "##### Version 0.1\n",
    "#####  Author: {{cookiecutter.author_name}}\n",
    "##### email: {{cookiecutter.author_email}}\n",
    "##### Date: {% now 'local', '%d-%b-%Y' %}\n",
    "\n",
    "##### Contributors: "
   ]
  },
  {
   "cell_type": "code",
   "execution_count": null,
   "metadata": {
    "collapsed": true
   },
   "outputs": [],
   "source": [
    "%matplotlib inline\n",
    "\n",
    "#standard library imports\n",
    "import os\n",
    "import sys\n",
    "\n",
    "#external library imports\n",
    "import sklearn\n",
    "\n",
    "module_path = os.path.abspath(os.path.join('..'))\n",
    "\n",
    "# Enable importing of modules saved in src\n",
    "if module_path not in sys.path:\n",
    "    sys.path.append('..')\n",
    "\n",
    "#local package imports\n",
    "import src"
   ]
  },
  {
   "cell_type": "markdown",
   "metadata": {},
   "source": [
    "# Preprocessing\n",
    "\n",
    "* __CRITICAL: DO NOT MODIFY YOUR ORIGINAL DATASET!__ \n",
    "    * Save preprocessed data in the ../data/processed directory.\n",
    "* Identify how to clean, transform and deal with common data quality issues, such as missing data, gaps. etc. Identify any data that had to be removed and in addition any missing data that had to be imputed.\n",
    "* Any additional processing needed to create the final dataset, i.e. data that will be used for modeling. This can include things like merging multiple datasets or aggregation.\n",
    "* Describe derived data and any feature calculations\n",
    "* Provide details of data used for training, validation, testing."
   ]
  },
  {
   "cell_type": "code",
   "execution_count": null,
   "metadata": {
    "collapsed": true
   },
   "outputs": [],
   "source": [
    "# Data Cleaning code goes here.\n"
   ]
  }
 ],
 "metadata": {
  "kernelspec": {
   "display_name": "Python [default]",
   "language": "python",
   "name": "python2"
  },
  "language_info": {
   "codemirror_mode": {
    "name": "ipython",
    "version": 2
   },
   "file_extension": ".py",
   "mimetype": "text/x-python",
   "name": "python",
   "nbconvert_exporter": "python",
   "pygments_lexer": "ipython2",
   "version": "2.7.14"
  }
 },
 "nbformat": 4,
 "nbformat_minor": 2
}
