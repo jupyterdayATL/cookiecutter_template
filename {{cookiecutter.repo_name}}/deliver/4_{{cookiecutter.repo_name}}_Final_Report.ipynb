{
 "cells": [
  {
   "cell_type": "markdown",
   "metadata": {},
   "source": [
    "# {{cookiecutter.project_name}}\n",
    "\n",
    "##### Version 0.1\n",
    "#####  Author: {{cookiecutter.author_name}}\n",
    "##### email: {{cookiecutter.author_email}}\n",
    "##### Date: {% now 'local', '%d-%b-%Y' %}\n",
    "\n",
    "##### Contributors: "
   ]
  },
  {
   "cell_type": "markdown",
   "metadata": {},
   "source": [
    "## Project Review\n",
    "\n",
    "Assess what when right and what went wrong, what was done well and what needs to be improved.\n",
    "\n",
    "\n",
    "### Experience Documentation\n",
    "\n",
    "TODO: Summarize important experience gained during the project. For example, pitfalls, misleading approaches,\n",
    "or hints for selecting the best suited data mining techniques in similar situations could be part of this\n",
    "documentation. In ideal projects, experience documentation also covers any reports that have been\n",
    "written by individual project members during previous phases of the project.\n",
    "\n",
    "TODO: Summarize important experience gained during the project. For example, pitfalls, misleading approaches,\n",
    "or hints for selecting the best suited data mining techniques in similar situations could be part of this\n",
    "documentation. In ideal projects, experience documentation also covers any reports that have been\n",
    "written by individual project members during previous phases of the project.\n"
   ]
  },
  {
   "cell_type": "markdown",
   "metadata": {},
   "source": [
    "# Final Report\n",
    "\n",
    "## Deployment Plan\n",
    "\n",
    "This task takes the evaluation results and determines a strategy for deployment. If a general procedure has\n",
    "been identified to create the relevant model(s), this procedure is documented here for later deployment.\n",
    "\n",
    "### Deployment steps\n",
    "\n",
    "1. Create a pull request to have your project development history merged into the organization Github repository.\n",
    "2. From your top level project directory, at a command line run the command: \n",
    "\n",
    "    `docker build -t <your organization>/{{ cookiecutter.project_name.lower().replace(' ', '_') }}`.\n",
    "    \n",
    "3. If the container builds sucessfully, run an instance of the container locally.\n",
    "3. Test that you can run the model locally.\n",
    "4. If you are satisfied that the model is giving as expected results, push the containerized image to your configured docker repository."
   ]
  },
  {
   "cell_type": "code",
   "execution_count": null,
   "metadata": {},
   "outputs": [],
   "source": [
    "# Example code to test the rest api of the model\n",
    "\n",
    "import requests\n",
    "import pandas as pd\n",
    "\n",
    "\n",
    "# Example of \n",
    "new_dict = {'sepal_length': 5.0, 'sepal_width': 3.4, 'petal_length': 1.5, 'petal_width': 0.2}\n",
    "\n",
    "payload = pd.DataFrame([new_dict]).to_json()\n",
    "\n",
    "r = requests.post(\"http://localhost:5000\", data=payload)\n",
    "r.status_code\n",
    "\n",
    "r.json()\n"
   ]
  },
  {
   "cell_type": "markdown",
   "metadata": {},
   "source": [
    "# Monitoring and Maintenance Plan\n",
    "\n",
    "Monitoring and maintenance are important issues if the data science result becomes part of the day-to-day business and its environment. The careful preparation of a maintenance strategy helps to avoid unnecessarily long periods of incorrect usage of machine learning model results \n",
    "\n",
    "## Critical Questions\n",
    "\n",
    "* Will model performance need to be tracked in real time?\n",
    "* If yes, how will model performance be tracked?\n",
    "* What is the process and schedule for retraining and redploying the model "
   ]
  },
  {
   "cell_type": "markdown",
   "metadata": {},
   "source": [
    "## TODO:\n",
    "\n",
    "_At the end of the project, the project team writes up a final report. Depending on the deployment plan, this\n",
    "report may be only a summary of the project and its experiences (if they have not already been documented\n",
    "as an ongoing activity) or it may be a final and comprehensive presentation of the data science engagement result(s)._\n",
    "\n",
    "## References\n",
    "\n",
    "1. Rüdiger, 2000; _CRISP-DM: Towards a standard process model for data mining_, Proceedings of the Fourth International Conference on the Practical Application of Knowledge Discovery and Data Mining, pp 29--39"
   ]
  }
 ],
 "metadata": {
  "kernelspec": {
   "display_name": "Python [default]",
   "language": "python",
   "name": "python2"
  },
  "language_info": {
   "codemirror_mode": {
    "name": "ipython",
    "version": 2
   },
   "file_extension": ".py",
   "mimetype": "text/x-python",
   "name": "python",
   "nbconvert_exporter": "python",
   "pygments_lexer": "ipython2",
   "version": "2.7.14"
  }
 },
 "nbformat": 4,
 "nbformat_minor": 2
}
