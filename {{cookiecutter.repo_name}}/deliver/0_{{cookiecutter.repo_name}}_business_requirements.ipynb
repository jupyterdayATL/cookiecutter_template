{
 "cells": [
  {
   "cell_type": "markdown",
   "metadata": {},
   "source": [
    "# {{cookiecutter.project_name}}\n",
    "\n",
    "##### Version 0.1\n",
    "#####  Author: {{cookiecutter.author_name}}\n",
    "##### email: {{cookiecutter.author_email}}\n",
    "##### Date: {% now 'local', '%d-%b-%Y' %}\n",
    "\n",
    "##### Contributors: \n"
   ]
  },
  {
   "cell_type": "code",
   "execution_count": 6,
   "metadata": {
    "collapsed": true
   },
   "outputs": [],
   "source": [
    "%matplotlib inline\n",
    "\n",
    "#standard library imports\n",
    "import os\n",
    "import sys\n",
    "\n",
    "#external library imports\n",
    "import sklearn\n",
    "\n",
    "import os\n",
    "import sys\n",
    "\n",
    "module_path = os.path.abspath(os.path.join('..'))\n",
    "if module_path not in sys.path:\n",
    "    sys.path.append('..')\n",
    "\n",
    "#local package imports\n",
    "import src"
   ]
  },
  {
   "cell_type": "markdown",
   "metadata": {},
   "source": [
    "## Business/Domain Understanding\n",
    "\n",
    "Identify a business problem or question and agree with stakeholders about the questions and hypotheses this analytic study will be trying to answer.\n",
    "\n",
    "### Background\n",
    "* What is known about the problem at the beginning of the project?\n",
    "* Any resources, constraints or assumptions?\n",
    "* Who is the customer for this project?\n",
    "\n",
    "### Goals & Objectives\n",
    "* What are the goals and objective for doing this data science project?\n",
    "* What is the business value for a successful implementation of this data science project?\n",
    "* What are the specific required outputs of this data science project?\n",
    "\n",
    "### Success Criteria\n",
    "* Identify specific metrics that will be used to assess success.\n",
    "\n",
    "For example:\n",
    "\n",
    "1. Minimum lead time of …….\n",
    "2. False positive rate should be less than …..%.\n",
    "3. True positive rate should be at least …. %\n",
    "4. Predict Customer churn with x% Accuracy"
   ]
  },
  {
   "cell_type": "markdown",
   "metadata": {},
   "source": [
    "## Modeling and Analysis\n",
    "* What techniques, modeling methods, domain specific calculations have been used?\n",
    "* Are there specific parameters that have been used, tried, or optimized?\n",
    "\n",
    "#### Model Training and Tuning\n",
    "\n",
    "* What modeling method(s) or engineering calculations will be used?\n",
    "* List any specific modeling assumptions.\n",
    "* List any model parameters used."
   ]
  },
  {
   "cell_type": "code",
   "execution_count": 10,
   "metadata": {
    "collapsed": true
   },
   "outputs": [],
   "source": [
    "# Analysis and Machine Learning Code goes here."
   ]
  },
  {
   "cell_type": "markdown",
   "metadata": {},
   "source": []
  },
  {
   "cell_type": "code",
   "execution_count": 11,
   "metadata": {
    "collapsed": true
   },
   "outputs": [],
   "source": [
    "# Calculate performance metrics chosen on a test set or via cross-validation"
   ]
  }
 ],
 "metadata": {
  "kernelspec": {
   "display_name": "Python [default]",
   "language": "python",
   "name": "python2"
  },
  "language_info": {
   "codemirror_mode": {
    "name": "ipython",
    "version": 2
   },
   "file_extension": ".py",
   "mimetype": "text/x-python",
   "name": "python",
   "nbconvert_exporter": "python",
   "pygments_lexer": "ipython2",
   "version": "2.7.14"
  }
 },
 "nbformat": 4,
 "nbformat_minor": 2
}
