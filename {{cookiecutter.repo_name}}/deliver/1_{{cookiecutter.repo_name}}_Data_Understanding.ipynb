{
 "cells": [
  {
   "cell_type": "markdown",
   "metadata": {},
   "source": [
    "# {{cookiecutter.project_name}}\n",
    "\n",
    "##### Version 0.1\n",
    "#####  Author: {{cookiecutter.author_name}}\n",
    "##### email: {{cookiecutter.author_email}}\n",
    "##### Date: {% now 'local', '%d-%b-%Y' %}\n",
    "\n",
    "##### Contributors: "
   ]
  },
  {
   "cell_type": "code",
   "execution_count": 1,
   "metadata": {
    "collapsed": true
   },
   "outputs": [],
   "source": [
    "%matplotlib inline\n",
    "\n",
    "#standard library imports\n",
    "import os\n",
    "import sys\n",
    "\n",
    "#external library imports\n",
    "import pandas as pd\n",
    "import sklearn\n",
    "\n",
    "import os\n",
    "import sys\n",
    "\n",
    "module_path = os.path.abspath(os.path.join('..'))\n",
    "\n",
    "# Enable importing of modules saved in src\n",
    "if module_path not in sys.path:\n",
    "    sys.path.append('..')\n",
    "\n",
    "#local package imports\n",
    "import src"
   ]
  },
  {
   "cell_type": "markdown",
   "metadata": {},
   "source": [
    "# Data Collection\n",
    "\n",
    "## Critical Questions\n",
    "\n",
    "* Identify all data sources that can or will be used.\n",
    "\n",
    "* How and from where was the data collected?\n"
   ]
  },
  {
   "cell_type": "code",
   "execution_count": 11,
   "metadata": {},
   "outputs": [
    {
     "name": "stderr",
     "output_type": "stream",
     "text": [
      "--2018-03-30 15:41:05--  https://archive.ics.uci.edu/ml/machine-learning-databases/iris/iris.data\n",
      "Resolving archive.ics.uci.edu... 128.195.10.249\n",
      "Connecting to archive.ics.uci.edu|128.195.10.249|:443... connected.\n",
      "HTTP request sent, awaiting response... 200 OK\n",
      "Length: 4551 (4.4K) [text/plain]\n",
      "Saving to: '../data/raw/raw_data.csv'\n",
      "\n",
      "     0K ....                                                  100%  521K=0.009s\n",
      "\n",
      "2018-03-30 15:41:08 (521 KB/s) - '../data/raw/raw_data.csv' saved [4551/4551]\n",
      "\n"
     ]
    }
   ],
   "source": [
    "%%bash\n",
    "\n",
    "# Code to download the data\n",
    "wget -O ../data/raw/raw_data.csv https://archive.ics.uci.edu/ml/machine-learning-databases/iris/iris.data\n"
   ]
  },
  {
   "cell_type": "markdown",
   "metadata": {},
   "source": [
    "# Data Description\n",
    "\n",
    "Describe the data that has been acquired, including the format of the data, the quantity of data (for\n",
    "example, the number of records and fields in each table), the identities of the fields, and any other surface\n",
    "features which have been discovered. Evaluate whether the data acquired satisfies the relevant requirements.\n",
    "\n",
    "\n",
    "\n",
    "# Data Exploration\n",
    "\n",
    "Descriptive statistics of the datasets.\n",
    "Include graphs of the dataset that aid in deeper understanding or interpretation of the data. Typical content may include box plots, histograms, scatter plots, correlation plots, heat maps, etc.\n"
   ]
  },
  {
   "cell_type": "code",
   "execution_count": null,
   "metadata": {
    "collapsed": true
   },
   "outputs": [],
   "source": [
    "# EDA Code Here"
   ]
  }
 ],
 "metadata": {
  "kernelspec": {
   "display_name": "Python [default]",
   "language": "python",
   "name": "python2"
  },
  "language_info": {
   "codemirror_mode": {
    "name": "ipython",
    "version": 2
   },
   "file_extension": ".py",
   "mimetype": "text/x-python",
   "name": "python",
   "nbconvert_exporter": "python",
   "pygments_lexer": "ipython2",
   "version": "2.7.14"
  }
 },
 "nbformat": 4,
 "nbformat_minor": 2
}
