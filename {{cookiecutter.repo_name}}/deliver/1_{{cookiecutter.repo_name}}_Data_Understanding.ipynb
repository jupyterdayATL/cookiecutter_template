{
 "cells": [
  {
   "cell_type": "markdown",
   "metadata": {},
   "source": [
    "# {{cookiecutter.project_name}}\n",
    "\n",
    "##### Version 0.1\n",
    "#####  Author: {{cookiecutter.author_name}}\n",
    "##### email: {{cookiecutter.author_email}}\n",
    "##### Date: {% now 'local', '%d-%b-%Y' %}\n",
    "\n",
    "##### Contributors: "
   ]
  },
  {
   "cell_type": "code",
   "execution_count": 1,
   "metadata": {
    "collapsed": true
   },
   "outputs": [],
   "source": [
    "%matplotlib inline\n",
    "\n",
    "#standard library imports\n",
    "import os\n",
    "import sys\n",
    "\n",
    "#external library imports\n",
    "import pandas as pd\n",
    "import sklearn\n",
    "\n",
    "module_path = os.path.abspath(os.path.join('..'))\n",
    "\n",
    "# Enable importing of modules saved in src\n",
    "if module_path not in sys.path:\n",
    "    sys.path.append('..')\n",
    "\n",
    "#local package imports\n",
    "import src"
   ]
  },
  {
   "cell_type": "markdown",
   "metadata": {},
   "source": [
    "# Data Collection\n",
    "\n",
    "## Critical Questions\n",
    "\n",
    "* Identify all data sources that can or will be used.\n",
    "\n",
    "* How and from where was the data collected?\n"
   ]
  },
  {
   "cell_type": "markdown",
   "metadata": {},
   "source": [
    "# Data Description\n",
    "\n",
    "Describe the data that has been acquired, including the format of the data, the quantity of data (for\n",
    "example, the number of records and fields in each table), the identities of the fields, and any other surface\n",
    "features which have been discovered. Evaluate whether the data acquired satisfies the relevant requirements.\n",
    "\n",
    "\n",
    "\n",
    "# Data Exploration\n",
    "\n",
    "Descriptive statistics of the datasets.\n",
    "Include graphs of the dataset that aid in deeper understanding or interpretation of the data. Typical content may include box plots, histograms, scatter plots, correlation plots, heat maps, etc.\n",
    "\n",
    "Data exploration should include the following:\n",
    "1. Univariate and multivariate summaries of the data\n",
    "2. Checks and identification of outliers.\n",
    "3. Checks for missing or bad quality data (miscoding).\n",
    "4. Check for ranges and units of all data points.\n"
   ]
  },
  {
   "cell_type": "code",
   "execution_count": null,
   "metadata": {
    "collapsed": true
   },
   "outputs": [],
   "source": [
    "# EDA Code Here"
   ]
  }
 ],
 "metadata": {
  "kernelspec": {
   "display_name": "Python [default]",
   "language": "python",
   "name": "python2"
  },
  "language_info": {
   "codemirror_mode": {
    "name": "ipython",
    "version": 2
   },
   "file_extension": ".py",
   "mimetype": "text/x-python",
   "name": "python",
   "nbconvert_exporter": "python",
   "pygments_lexer": "ipython2",
   "version": "2.7.14"
  }
 },
 "nbformat": 4,
 "nbformat_minor": 2
}
