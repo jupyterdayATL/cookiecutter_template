{
 "cells": [
  {
   "cell_type": "markdown",
   "metadata": {},
   "source": [
    "# {{cookiecutter.project_name}}\n",
    "\n",
    "##### Version 0.1\n",
    "#####  Author: {{cookiecutter.author_name}}\n",
    "##### email: {{cookiecutter.author_email}}\n",
    "##### Date: {% now 'local', '%d-%b-%Y' %}\n",
    "\n",
    "##### Contributors: "
   ]
  },
  {
   "cell_type": "markdown",
   "metadata": {},
   "source": [
    "# Final Report\n",
    "\n",
    "## TODO:\n",
    "\n",
    "_At the end of the project, the project team writes up a final report. Depending on the deployment plan, this\n",
    "report may be only a summary of the project and its experiences (if they have not already been documented\n",
    "as an ongoing activity) or it may be a final and comprehensive presentation of the data science engagement result(s)._"
   ]
  }
 ],
 "metadata": {
  "kernelspec": {
   "display_name": "Python [default]",
   "language": "python",
   "name": "python2"
  },
  "language_info": {
   "codemirror_mode": {
    "name": "ipython",
    "version": 2
   },
   "file_extension": ".py",
   "mimetype": "text/x-python",
   "name": "python",
   "nbconvert_exporter": "python",
   "pygments_lexer": "ipython2",
   "version": "2.7.14"
  }
 },
 "nbformat": 4,
 "nbformat_minor": 2
}
