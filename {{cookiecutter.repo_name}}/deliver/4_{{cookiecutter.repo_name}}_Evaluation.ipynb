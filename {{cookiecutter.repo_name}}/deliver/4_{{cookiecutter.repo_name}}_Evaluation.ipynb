{
 "cells": [
  {
   "cell_type": "markdown",
   "metadata": {},
   "source": [
    "# {{cookiecutter.project_name}}\n",
    "\n",
    "##### Version 0.1\n",
    "#####  Author: {{cookiecutter.author_name}}\n",
    "##### email: {{cookiecutter.author_email}}\n",
    "##### Date: {% now 'local', '%d-%b-%Y' %}\n",
    "\n",
    "##### Contributors: "
   ]
  },
  {
   "cell_type": "code",
   "execution_count": null,
   "metadata": {
    "collapsed": true
   },
   "outputs": [],
   "source": [
    "%matplotlib inline\n",
    "\n",
    "#standard library imports\n",
    "import os\n",
    "import sys\n",
    "\n",
    "#external library imports\n",
    "import sklearn\n",
    "\n",
    "module_path = os.path.abspath(os.path.join('..'))\n",
    "\n",
    "# Enable importing of modules saved in src\n",
    "if module_path not in sys.path:\n",
    "    sys.path.append('..')\n",
    "\n",
    "#local package imports\n",
    "import src"
   ]
  },
  {
   "cell_type": "markdown",
   "metadata": {},
   "source": [
    "# Evaluation\n",
    "\n",
    "At this stage in the project, you have built a model (or models) that appears to have high quality from a data analysis perspective. Before proceeding to final deployment of the model, it is important to thoroughly evaluate it and review the steps executed to create it, to be certain the model properly achieves the business objectives. \n",
    "\n",
    "\n",
    "A key objective is to determine if there is some important business issue that has not been sufficiently considered. At the end of this phase, a decision on the use of the data mining results should be reached.\n",
    "\n",
    "\n",
    "## Critical Questions + Decisions\n",
    "\n",
    "* Can the model(s) generated be used to answer the business question?\n",
    "* Go/No Go Decision on model deployment and usage in business process."
   ]
  },
  {
   "cell_type": "markdown",
   "metadata": {},
   "source": [
    "## Results and Evaluation\n",
    "### Model Performance Assessment and Comparisons\n",
    "* For classification analytics, calculate estimated true positive and false positive rate.\n",
    "* List artifacts of this analytic.\n",
    "\n",
    "\n",
    "#### Sample Tabular Output\n",
    "\n",
    "__Model Performance on Training Data__\n",
    "\n",
    "| Parameter     | Value       |\n",
    "| ------------- |-------------|\n",
    "| # of Units    | 0           |\n",
    "| # of units evaluated |    0 |\n",
    "| # of units with alarms |  0 |\n",
    "| # of units with no alarms | 0 |\n",
    "\n",
    "__ Model Performance on Test or Validation Data__\n",
    "\n",
    "| Parameter       | Value    |\n",
    "| ------------- |-------------|\n",
    "| # of Units    | 0 |\n",
    "| # of units evaluated  | 0  |\n",
    "| # of units with alarms |     0  |\n",
    "| # of units with no alarms | 0 |"
   ]
  },
  {
   "cell_type": "code",
   "execution_count": null,
   "metadata": {
    "collapsed": true
   },
   "outputs": [],
   "source": []
  }
 ],
 "metadata": {
  "kernelspec": {
   "display_name": "Python [default]",
   "language": "python",
   "name": "python2"
  },
  "language_info": {
   "codemirror_mode": {
    "name": "ipython",
    "version": 2
   },
   "file_extension": ".py",
   "mimetype": "text/x-python",
   "name": "python",
   "nbconvert_exporter": "python",
   "pygments_lexer": "ipython2",
   "version": "2.7.14"
  }
 },
 "nbformat": 4,
 "nbformat_minor": 2
}
