{
 "cells": [
  {
   "cell_type": "markdown",
   "metadata": {},
   "source": [
    "# {{cookiecutter.project_name}}\n",
    "\n",
    "##### Version 0.1\n",
    "#####  Author: {{cookiecutter.author_name}}\n",
    "##### email: {{cookiecutter.author_email}}\n",
    "##### Date: {% now 'local', '%d-%b-%Y' %}\n",
    "\n",
    "##### Contributors: "
   ]
  },
  {
   "attachments": {},
   "cell_type": "markdown",
   "metadata": {},
   "source": [
    "# Deployment Plan\n",
    "\n",
    "This task takes the evaluation results and determines a strategy for deployment. If a general procedure has\n",
    "been identified to create the relevant model(s), this procedure is documented here for later deployment.\n",
    "\n",
    "## Deployment steps\n",
    "\n",
    "1. Create a pull request to have your project development history merged into the organization Github repository.\n",
    "2. From your top level project directory, at a command line run the command `docker build -t <your organization>/{{ cookiecutter.project_name.lower().replace(' ', '_') }}.\n",
    "3. If the container builds sucessfully, run an instance of the container locally.\n",
    "3. Test that you can run the model locally.\n",
    "4. If you are satisfied that the model is giving as expected results, push the containerized image to your configured docker repository.\n"
   ]
  },
  {
   "cell_type": "code",
   "execution_count": 1,
   "metadata": {
    "collapsed": true
   },
   "outputs": [],
   "source": [
    "# Example code to test the rest api of the model\n",
    "\n",
    "import requests\n",
    "\n",
    "reply requests.get()\n",
    "\n"
   ]
  },
  {
   "cell_type": "markdown",
   "metadata": {},
   "source": [
    "# Monitoring and Maintenance Plan\n",
    "\n",
    "Monitoring and maintenance are important issues if the data science result becomes part of the day-to-day business and its environment. The careful preparation of a maintenance strategy helps to avoid unnecessarily long periods of incorrect usage of machine learning model results \n",
    "\n",
    "## Critical Questions\n",
    "\n",
    "* Will model performance need to be tracked in real time?\n",
    "* If yes, how will model performance be tracked?\n",
    "* What is the process and schedule for retraining and redploying the model "
   ]
  }
 ],
 "metadata": {
  "kernelspec": {
   "display_name": "Python [default]",
   "language": "python",
   "name": "python2"
  },
  "language_info": {
   "codemirror_mode": {
    "name": "ipython",
    "version": 2
   },
   "file_extension": ".py",
   "mimetype": "text/x-python",
   "name": "python",
   "nbconvert_exporter": "python",
   "pygments_lexer": "ipython2",
   "version": "2.7.14"
  }
 },
 "nbformat": 4,
 "nbformat_minor": 2
}
