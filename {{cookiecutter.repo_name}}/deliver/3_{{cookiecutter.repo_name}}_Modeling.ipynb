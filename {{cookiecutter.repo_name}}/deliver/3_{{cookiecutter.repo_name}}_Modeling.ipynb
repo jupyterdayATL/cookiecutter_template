{
 "cells": [
  {
   "cell_type": "markdown",
   "metadata": {},
   "source": [
    "# {{cookiecutter.project_name}}\n",
    "\n",
    "##### Version 0.1\n",
    "#####  Author: {{cookiecutter.author_name}}\n",
    "##### email: {{cookiecutter.author_email}}\n",
    "##### Date: {% now 'local', '%d-%b-%Y' %}\n",
    "\n",
    "##### Contributors: "
   ]
  },
  {
   "cell_type": "code",
   "execution_count": 1,
   "metadata": {
    "collapsed": true
   },
   "outputs": [],
   "source": [
    "%matplotlib inline\n",
    "\n",
    "#standard library imports\n",
    "import os\n",
    "import sys\n",
    "\n",
    "#external library imports\n",
    "import numpy as np\n",
    "import pandas as pd\n",
    "\n",
    "from sklearn import metrics\n",
    "from sklearn.model_selection import train_test_split\n",
    "from sklearn.externals import joblib\n",
    "\n",
    "module_path = os.path.abspath(os.path.join('..'))\n",
    "\n",
    "# Enable importing of modules saved in src\n",
    "if module_path not in sys.path:\n",
    "    sys.path.append('..')\n",
    "\n",
    "#local package imports\n",
    "import src"
   ]
  },
  {
   "cell_type": "markdown",
   "metadata": {},
   "source": [
    "## Modeling and Analysis\n",
    "* What techniques, modeling methods, domain specific calculations have been used?\n",
    "* Are there specific parameters that have been used, tried, or optimized?\n",
    "\n",
    "#### Model Training and Tuning\n",
    "\n",
    "* What modeling method(s) or engineering calculations will be used?\n",
    "* List any specific modeling assumptions.\n",
    "* List any model parameters used."
   ]
  },
  {
   "cell_type": "code",
   "execution_count": null,
   "metadata": {
    "collapsed": true
   },
   "outputs": [],
   "source": [
    "# Load the data set in from the pre-processed data\n",
    "model_data = pd.read_csv('../data/processed/{{cookiecutter.repo_name}}_processed.csv')\n",
    "\n",
    "feature_columns = []\n",
    "predicted_class_names = []\n",
    "\n",
    "X = model_data[feature_columns].values\n",
    "y = model_data[predicted_class_names].values\n",
    "split_test_size = 0.10\n",
    "\n",
    "X_train, X_test, y_train, y_test = train_test_split(X, y, test_size=split_test_size)\n",
    "\n",
    "# {{cookiecutter.repo_name}}_model = {sklearn_model}.fit(X_train,y_train)"
   ]
  },
  {
   "cell_type": "markdown",
   "metadata": {},
   "source": [
    "# Evaluation\n",
    "\n",
    "At this stage in the project, you have built a model (or models) that appears to have high quality from a data analysis perspective. Before proceeding to final deployment of the model, it is important to thoroughly evaluate it and review the steps executed to create it, to be certain the model properly achieves the business objectives. \n",
    "\n",
    "\n",
    "A key objective is to determine if there is some important business issue that has not been sufficiently considered. At the end of this phase, a decision on the use of the data mining results should be reached.\n",
    "\n",
    "\n",
    "## Critical Questions + Decisions\n",
    "\n",
    "* Can the model(s) generated be used to answer the business question?\n",
    "* Go/No Go Decision on model deployment and usage in business process."
   ]
  },
  {
   "cell_type": "markdown",
   "metadata": {},
   "source": [
    "## Results and Evaluation\n",
    "### Model Performance Assessment and Comparisons\n",
    "* For classification analytics, calculate estimated true positive and false positive rate.\n",
    "* List artifacts of this analytic.\n",
    "\n",
    "\n",
    "#### Sample Tabular Output\n",
    "\n",
    "__Model Performance on Training Data__\n",
    "\n",
    "| Parameter     | Value       |\n",
    "| ------------- |-------------|\n",
    "| # of Units    | 0           |\n",
    "| # of units evaluated |    0 |\n",
    "| # of units with alarms |  0 |\n",
    "| # of units with no alarms | 0 |\n",
    "\n",
    "__ Model Performance on Test or Validation Data__\n",
    "\n",
    "| Parameter       | Value    |\n",
    "| ------------- |-------------|\n",
    "| # of Units    | 0 |\n",
    "| # of units evaluated  | 0  |\n",
    "| # of units with alarms |     0  |\n",
    "| # of units with no alarms | 0 |"
   ]
  },
  {
   "cell_type": "markdown",
   "metadata": {},
   "source": [
    "### Save a copy of the final model to models directory"
   ]
  },
  {
   "cell_type": "code",
   "execution_count": null,
   "metadata": {
    "collapsed": true
   },
   "outputs": [],
   "source": [
    "# Save the trained model to ../models\n",
    "joblib.dump({{cookiecutter.repo_name}}_model, '../models/iris_nb.pkl') "
   ]
  }
 ],
 "metadata": {
  "kernelspec": {
   "display_name": "Python [default]",
   "language": "python",
   "name": "python2"
  },
  "language_info": {
   "codemirror_mode": {
    "name": "ipython",
    "version": 2
   },
   "file_extension": ".py",
   "mimetype": "text/x-python",
   "name": "python",
   "nbconvert_exporter": "python",
   "pygments_lexer": "ipython2",
   "version": "2.7.14"
  }
 },
 "nbformat": 4,
 "nbformat_minor": 2
}
